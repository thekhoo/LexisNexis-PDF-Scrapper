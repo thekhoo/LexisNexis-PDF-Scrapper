{
 "cells": [
  {
   "cell_type": "code",
   "execution_count": 1,
   "id": "e77c9b53",
   "metadata": {},
   "outputs": [],
   "source": [
    "import PyPDF2\n",
    "import regex as re"
   ]
  },
  {
   "cell_type": "code",
   "execution_count": 2,
   "id": "804a55b4",
   "metadata": {},
   "outputs": [],
   "source": [
    "# Request user to input the filename without the .pdf\n",
    "# filename = input('What is the file name?\\n')\n",
    "filename = 'D6'\n",
    "\n",
    "# Enter the sections to be extracted here\n",
    "section_to_extract = [18,6,7,8,9,12,13,14,15,16,17,20,21,22,23,24,25,27]\n",
    "section_to_extract.sort()"
   ]
  },
  {
   "cell_type": "markdown",
   "id": "097bba14",
   "metadata": {},
   "source": [
    "## Getting the PDF File Text\n",
    "\n",
    "This section of code will handle obtaining the file and the text within that pdf file."
   ]
  },
  {
   "cell_type": "code",
   "execution_count": 3,
   "id": "c0552495",
   "metadata": {},
   "outputs": [],
   "source": [
    "# Open the File\n",
    "file = open(f'data/{filename}.pdf','rb')\n",
    "\n",
    "# Create PyPDF2 Reader Object\n",
    "reader = PyPDF2.PdfFileReader(file)\n",
    "\n",
    "# Get the Text from the file\n",
    "text = ''\n",
    "\n",
    "for i in range(reader.numPages):\n",
    "    # Get the current page\n",
    "    page = reader.getPage(i)\n",
    "    # Extract the text\n",
    "    current_text = page.extract_text()\n",
    "    # Append to master text variable\n",
    "    text += current_text"
   ]
  },
  {
   "cell_type": "markdown",
   "id": "52afc123",
   "metadata": {},
   "source": [
    "## Separate the text by Section\n",
    "\n",
    "This section of code will separate the text by section and return a dictionary of section and the corresponding text."
   ]
  },
  {
   "cell_type": "code",
   "execution_count": 4,
   "id": "bb7b2a79",
   "metadata": {},
   "outputs": [],
   "source": [
    "# Section Regex\n",
    "section_regex = re.escape(filename) + r'\\.\\d{1,2}\\n'\n",
    "\n",
    "# Create a Regex to Identify section numbers\n",
    "sections_full = re.findall(section_regex,text)\n",
    "\n",
    "# Split the text into an array\n",
    "section_text = re.split(section_regex,text)\n",
    "\n",
    "# Get a list of Sections\n",
    "sections = [s.strip('\\n') for s in sections_full]\n",
    "\n",
    "# Remove the first section (Before D#.1)\n",
    "section_text.pop(0)\n",
    "\n",
    "# Create Dictionary\n",
    "doc_dict = dict(zip(sections,section_text))"
   ]
  },
  {
   "cell_type": "markdown",
   "id": "436cd290",
   "metadata": {},
   "source": [
    "## Extract Target Data\n",
    "\n",
    "This section of code will search for the sections specified by the user and return it as a string."
   ]
  },
  {
   "cell_type": "code",
   "execution_count": 5,
   "id": "5f0b1cab",
   "metadata": {},
   "outputs": [],
   "source": [
    "def remove_linespace_OLD(text):\n",
    "    # Split by .\\n to get an array\n",
    "    # linespace_regex = r'(?<=[a-z)])\\.\\n(?=[A-Z(])'\n",
    "    linespace_regex = r'[\\.;:]\\n'\n",
    "    \n",
    "    delimiter_arr = re.findall(linespace_regex,text)\n",
    "    text_arr = re.split(linespace_regex,text)\n",
    "    \n",
    "    # Strip '\\n'\n",
    "    text_arr_formatted = [s.replace('\\n','') for s in text_arr]\n",
    "    \n",
    "    # Replace '\\n' with '\\r\\n'\n",
    "    delimiter_arr_formatted = [s.replace('\\n','') for s in delimiter_arr]\n",
    "    \n",
    "    # Join together\n",
    "    full_text_arr = []\n",
    "    \n",
    "    for idx, text_formatted in enumerate(text_arr_formatted):\n",
    "        if idx == len(text_arr_formatted) - 1:\n",
    "            \n",
    "            # Check if the section starts with \"End of Document\"\n",
    "            if text_formatted.find(\"End of Document\") == -1:\n",
    "                # End of Document not Found\n",
    "                full_text = text_formatted\n",
    "                \n",
    "        elif idx > 0:\n",
    "            # Start implementing delimiter + text\n",
    "            full_text = delimiter_arr_formatted[idx-1]\n",
    "            full_text += text_formatted\n",
    "        \n",
    "        else:\n",
    "            # First section of the text won't have a delimiter\n",
    "            full_text += text_formatted\n",
    "        \n",
    "        full_text_arr.append(full_text)\n",
    "\n",
    "        \n",
    "    return full_text"
   ]
  },
  {
   "cell_type": "code",
   "execution_count": 6,
   "id": "633007c3",
   "metadata": {},
   "outputs": [],
   "source": [
    "def remove_linespace(text_raw) -> list:\n",
    "    \n",
    "    linespace_regex = r'[\\.;:]\\n'\n",
    "    \n",
    "    delimiter_arr = re.findall(linespace_regex,text_raw)\n",
    "    text_arr = re.split(linespace_regex,text_raw)\n",
    "    \n",
    "    # Strip '\\n'\n",
    "    text_arr_formatted = [s.replace('\\n','') for s in text_arr]\n",
    "    \n",
    "    # Replace '\\n' with '\\r\\n'\n",
    "    delimiter_arr_formatted = [s.replace('\\n','') for s in delimiter_arr]\n",
    "    \n",
    "    text_delim_zip = zip(text_arr_formatted,delimiter_arr_formatted)\n",
    "    \n",
    "    text_arr = []\n",
    "    \n",
    "    for text, delimiter in text_delim_zip:\n",
    "        text_arr.append(text + delimiter)\n",
    "    \n",
    "    return text_arr"
   ]
  },
  {
   "cell_type": "markdown",
   "id": "78a42127",
   "metadata": {},
   "source": [
    "## Generating Word File\n",
    "\n",
    "This section will start creating the word file based on the text obtained and sections highlighted."
   ]
  },
  {
   "cell_type": "code",
   "execution_count": 7,
   "id": "c5030aeb",
   "metadata": {},
   "outputs": [],
   "source": [
    "from docx import Document\n",
    "from docx.shared import Inches, Pt\n",
    "from docx.enum.text import WD_PARAGRAPH_ALIGNMENT, WD_BREAK"
   ]
  },
  {
   "cell_type": "code",
   "execution_count": 8,
   "id": "fa37ce73",
   "metadata": {},
   "outputs": [],
   "source": [
    "doc = Document()"
   ]
  },
  {
   "cell_type": "code",
   "execution_count": 9,
   "id": "cab88862",
   "metadata": {},
   "outputs": [
    {
     "data": {
      "text/plain": [
       "<docx.text.paragraph.Paragraph at 0x7faa817b18e0>"
      ]
     },
     "execution_count": 9,
     "metadata": {},
     "output_type": "execute_result"
    }
   ],
   "source": [
    "# Create Heading for Document\n",
    "doc.add_heading(f\"{filename} Compilation\",0)"
   ]
  },
  {
   "cell_type": "code",
   "execution_count": 10,
   "id": "3efd2c8c",
   "metadata": {},
   "outputs": [],
   "source": [
    "# Add Sections and Text to Document\n",
    "for target in section_to_extract:\n",
    "    section_heading = f'{filename}.{target}'\n",
    "    section_text = remove_linespace(doc_dict[section_heading])\n",
    "    \n",
    "    # Add Heading\n",
    "    doc.add_heading(section_heading)\n",
    "    \n",
    "    # Add text\n",
    "    for text_item in section_text:\n",
    "        paragraph = doc.add_paragraph(text_item)\n",
    "        paragraph.alignment = WD_PARAGRAPH_ALIGNMENT.JUSTIFY\n",
    "        paragraph.paragraph_format.space_after = Pt(6)"
   ]
  },
  {
   "cell_type": "code",
   "execution_count": 11,
   "id": "6385e699",
   "metadata": {},
   "outputs": [],
   "source": [
    "# Save Document\n",
    "doc.save(f'output/{filename}.docx')"
   ]
  },
  {
   "cell_type": "code",
   "execution_count": null,
   "id": "57415adf",
   "metadata": {},
   "outputs": [],
   "source": []
  },
  {
   "cell_type": "code",
   "execution_count": null,
   "id": "daee6381",
   "metadata": {},
   "outputs": [],
   "source": []
  }
 ],
 "metadata": {
  "kernelspec": {
   "display_name": "Python 3",
   "language": "python",
   "name": "python3"
  },
  "language_info": {
   "codemirror_mode": {
    "name": "ipython",
    "version": 3
   },
   "file_extension": ".py",
   "mimetype": "text/x-python",
   "name": "python",
   "nbconvert_exporter": "python",
   "pygments_lexer": "ipython3",
   "version": "3.8.8"
  }
 },
 "nbformat": 4,
 "nbformat_minor": 5
}
