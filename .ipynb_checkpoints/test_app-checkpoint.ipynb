{
 "cells": [
  {
   "cell_type": "code",
   "execution_count": 1,
   "id": "fb34fb01",
   "metadata": {},
   "outputs": [],
   "source": [
    "import PyPDF2\n",
    "import regex as re"
   ]
  },
  {
   "cell_type": "code",
   "execution_count": 78,
   "id": "d9b584a0",
   "metadata": {},
   "outputs": [
    {
     "name": "stdout",
     "output_type": "stream",
     "text": [
      "What is the file name?\n",
      "D7\n"
     ]
    }
   ],
   "source": [
    "# Request user to input the filename without the .pdf\n",
    "filename = input('What is the file name?\\n')"
   ]
  },
  {
   "cell_type": "code",
   "execution_count": 79,
   "id": "999dd0f4",
   "metadata": {},
   "outputs": [],
   "source": [
    "# Enter the sections to be extracted here\n",
    "section_to_extract = [1,2,3,4,6,7,8,11,12,13,14,16,17,18,19,20,21,22,23,24,25,26,27,28,29,30,31]"
   ]
  },
  {
   "cell_type": "markdown",
   "id": "097bba14",
   "metadata": {},
   "source": [
    "## Getting the PDF File Text\n",
    "\n",
    "This section of code will handle obtaining the file and the text within that pdf file."
   ]
  },
  {
   "cell_type": "code",
   "execution_count": 80,
   "id": "c0552495",
   "metadata": {},
   "outputs": [],
   "source": [
    "# Open the File\n",
    "file = open(f'{filename}.pdf','rb')\n",
    "\n",
    "# Create PyPDF2 Reader Object\n",
    "reader = PyPDF2.PdfFileReader(file)\n",
    "\n",
    "# Get the Text from the file\n",
    "text = ''\n",
    "\n",
    "for i in range(reader.numPages):\n",
    "    # Get the current page\n",
    "    page = reader.getPage(i)\n",
    "    # Extract the text\n",
    "    current_text = page.extract_text()\n",
    "    # Append to master text variable\n",
    "    text += current_text"
   ]
  },
  {
   "cell_type": "markdown",
   "id": "52afc123",
   "metadata": {},
   "source": [
    "## Separate the text by Section\n",
    "\n",
    "This section of code will separate the text by section and return a dictionary of section and the corresponding text."
   ]
  },
  {
   "cell_type": "code",
   "execution_count": 81,
   "id": "bb7b2a79",
   "metadata": {},
   "outputs": [],
   "source": [
    "# Section Regex\n",
    "section_regex = re.escape(filename) + r'\\.\\d{1,2}\\n'\n",
    "\n",
    "# Create a Regex to Identify section numbers\n",
    "sections_full = re.findall(section_regex,text)\n",
    "\n",
    "# Split the text into an array\n",
    "section_text = re.split(section_regex,text)\n",
    "\n",
    "# Get a list of Sections\n",
    "sections = [s.strip('\\n') for s in sections_full]\n",
    "\n",
    "# Remove the first section (Before D#.1)\n",
    "section_text.pop(0)\n",
    "\n",
    "# Create Dictionary\n",
    "doc_dict = dict(zip(sections,section_text))"
   ]
  },
  {
   "cell_type": "markdown",
   "id": "436cd290",
   "metadata": {},
   "source": [
    "## Extract Target Data\n",
    "\n",
    "This section of code will search for the sections specified by the user and return it as a string."
   ]
  },
  {
   "cell_type": "code",
   "execution_count": 82,
   "id": "5f0b1cab",
   "metadata": {},
   "outputs": [],
   "source": [
    "def remove_linespace(text):\n",
    "    # Split by .\\n to get an array\n",
    "    # linespace_regex = r'(?<=[a-z)])\\.\\n(?=[A-Z(])'\n",
    "    linespace_regex = r'[\\.;:]\\n'\n",
    "    \n",
    "    delimiter_arr = re.findall(linespace_regex,text)\n",
    "    text_arr = re.split(linespace_regex,text)\n",
    "    \n",
    "    # Strip '\\n'\n",
    "    text_arr_formatted = [s.replace('\\n','') for s in text_arr]\n",
    "    \n",
    "    # Join together\n",
    "    full_text = ''\n",
    "    \n",
    "    for idx, text_formatted in enumerate(text_arr_formatted):\n",
    "        if idx > 0:\n",
    "            full_text += delimiter_arr[idx-1]\n",
    "            full_text += text_formatted\n",
    "        else:\n",
    "            full_text += text_formatted\n",
    "        \n",
    "    return full_text"
   ]
  },
  {
   "cell_type": "code",
   "execution_count": 83,
   "id": "7033816d",
   "metadata": {},
   "outputs": [],
   "source": [
    "target_text = ''\n",
    "\n",
    "for target in section_to_extract:\n",
    "    section = f'{filename}.{target}'\n",
    "    target_text += f'\\n{section}\\n'\n",
    "    target_text += remove_linespace(doc_dict[section])"
   ]
  },
  {
   "cell_type": "markdown",
   "id": "10309a86",
   "metadata": {},
   "source": [
    "## Writing to Text File\n",
    "\n",
    "This section will handle writing the data obtained into a text file."
   ]
  },
  {
   "cell_type": "code",
   "execution_count": 84,
   "id": "6c5255a0",
   "metadata": {},
   "outputs": [],
   "source": [
    "with open(f'{filename}.txt','w') as text_file:\n",
    "    text_file.write('%s' % target_text)"
   ]
  },
  {
   "cell_type": "code",
   "execution_count": null,
   "id": "acf76d6c",
   "metadata": {},
   "outputs": [],
   "source": []
  }
 ],
 "metadata": {
  "kernelspec": {
   "display_name": "Python 3",
   "language": "python",
   "name": "python3"
  },
  "language_info": {
   "codemirror_mode": {
    "name": "ipython",
    "version": 3
   },
   "file_extension": ".py",
   "mimetype": "text/x-python",
   "name": "python",
   "nbconvert_exporter": "python",
   "pygments_lexer": "ipython3",
   "version": "3.8.8"
  }
 },
 "nbformat": 4,
 "nbformat_minor": 5
}
